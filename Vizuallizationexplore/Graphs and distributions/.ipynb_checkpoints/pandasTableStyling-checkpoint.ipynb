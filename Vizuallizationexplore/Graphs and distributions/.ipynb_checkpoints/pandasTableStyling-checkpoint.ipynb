{
 "cells": [
  {
   "cell_type": "markdown",
   "id": "ac6e9cf8",
   "metadata": {},
   "source": [
    "# 2D dist continued!\n",
    "\n",
    "### Pandas Styling for tables!\n",
    "\n",
    "What if instead of having a ton of data to bin, we simply have a 2D table in pandas?\n"
   ]
  },
  {
   "cell_type": "code",
   "execution_count": 1,
   "id": "cd9cab37",
   "metadata": {},
   "outputs": [],
   "source": [
    "import numpy as np\n",
    "import pandas as pd"
   ]
  },
  {
   "cell_type": "code",
   "execution_count": 3,
   "id": "f47fdeaa",
   "metadata": {},
   "outputs": [
    {
     "data": {
      "text/html": [
       "<div>\n",
       "<style scoped>\n",
       "    .dataframe tbody tr th:only-of-type {\n",
       "        vertical-align: middle;\n",
       "    }\n",
       "\n",
       "    .dataframe tbody tr th {\n",
       "        vertical-align: top;\n",
       "    }\n",
       "\n",
       "    .dataframe thead th {\n",
       "        text-align: right;\n",
       "    }\n",
       "</style>\n",
       "<table border=\"1\" class=\"dataframe\">\n",
       "  <thead>\n",
       "    <tr style=\"text-align: right;\">\n",
       "      <th></th>\n",
       "      <th>A</th>\n",
       "      <th>B</th>\n",
       "      <th>C</th>\n",
       "      <th>D</th>\n",
       "      <th>E</th>\n",
       "      <th>F</th>\n",
       "    </tr>\n",
       "  </thead>\n",
       "  <tbody>\n",
       "    <tr>\n",
       "      <th>0</th>\n",
       "      <td>0.175044</td>\n",
       "      <td>-0.112903</td>\n",
       "      <td>-1.295076</td>\n",
       "      <td>0.792762</td>\n",
       "      <td>-0.112906</td>\n",
       "      <td>-1.914201</td>\n",
       "    </tr>\n",
       "    <tr>\n",
       "      <th>1</th>\n",
       "      <td>1.638484</td>\n",
       "      <td>1.049033</td>\n",
       "      <td>-0.517235</td>\n",
       "      <td>-0.696801</td>\n",
       "      <td>-1.502103</td>\n",
       "      <td>1.542003</td>\n",
       "    </tr>\n",
       "    <tr>\n",
       "      <th>2</th>\n",
       "      <td>-0.459179</td>\n",
       "      <td>1.021856</td>\n",
       "      <td>1.022587</td>\n",
       "      <td>3.167056</td>\n",
       "      <td>-1.702997</td>\n",
       "      <td>-1.237098</td>\n",
       "    </tr>\n",
       "    <tr>\n",
       "      <th>3</th>\n",
       "      <td>-0.091027</td>\n",
       "      <td>-1.564184</td>\n",
       "      <td>1.688237</td>\n",
       "      <td>0.076190</td>\n",
       "      <td>0.873852</td>\n",
       "      <td>-1.703137</td>\n",
       "    </tr>\n",
       "    <tr>\n",
       "      <th>4</th>\n",
       "      <td>-0.136428</td>\n",
       "      <td>1.168228</td>\n",
       "      <td>0.591207</td>\n",
       "      <td>0.882814</td>\n",
       "      <td>-0.003418</td>\n",
       "      <td>-1.567931</td>\n",
       "    </tr>\n",
       "    <tr>\n",
       "      <th>5</th>\n",
       "      <td>1.711448</td>\n",
       "      <td>-0.123046</td>\n",
       "      <td>-0.102071</td>\n",
       "      <td>0.362165</td>\n",
       "      <td>1.514650</td>\n",
       "      <td>-0.770193</td>\n",
       "    </tr>\n",
       "  </tbody>\n",
       "</table>\n",
       "</div>"
      ],
      "text/plain": [
       "          A         B         C         D         E         F\n",
       "0  0.175044 -0.112903 -1.295076  0.792762 -0.112906 -1.914201\n",
       "1  1.638484  1.049033 -0.517235 -0.696801 -1.502103  1.542003\n",
       "2 -0.459179  1.021856  1.022587  3.167056 -1.702997 -1.237098\n",
       "3 -0.091027 -1.564184  1.688237  0.076190  0.873852 -1.703137\n",
       "4 -0.136428  1.168228  0.591207  0.882814 -0.003418 -1.567931\n",
       "5  1.711448 -0.123046 -0.102071  0.362165  1.514650 -0.770193"
      ]
     },
     "execution_count": 3,
     "metadata": {},
     "output_type": "execute_result"
    }
   ],
   "source": [
    "df=pd.DataFrame(np.random.normal(size=(6,6)),columns=[x for x in \"ABCDEF\"])\n",
    "df"
   ]
  }
 ],
 "metadata": {
  "kernelspec": {
   "display_name": "Python 3 (ipykernel)",
   "language": "python",
   "name": "python3"
  },
  "language_info": {
   "codemirror_mode": {
    "name": "ipython",
    "version": 3
   },
   "file_extension": ".py",
   "mimetype": "text/x-python",
   "name": "python",
   "nbconvert_exporter": "python",
   "pygments_lexer": "ipython3",
   "version": "3.8.8"
  }
 },
 "nbformat": 4,
 "nbformat_minor": 5
}
