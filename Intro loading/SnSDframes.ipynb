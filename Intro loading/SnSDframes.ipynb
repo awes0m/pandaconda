{
 "cells": [
  {
   "cell_type": "markdown",
   "metadata": {},
   "source": [
    "# Saving and Serialising DataFrames"
   ]
  },
  {
   "cell_type": "code",
   "execution_count": 3,
   "metadata": {},
   "outputs": [],
   "source": [
    "import numpy as np\n",
    "import pandas as pd"
   ]
  },
  {
   "cell_type": "code",
   "execution_count": 4,
   "metadata": {},
   "outputs": [
    {
     "data": {
      "text/html": [
       "<div>\n",
       "<style scoped>\n",
       "    .dataframe tbody tr th:only-of-type {\n",
       "        vertical-align: middle;\n",
       "    }\n",
       "\n",
       "    .dataframe tbody tr th {\n",
       "        vertical-align: top;\n",
       "    }\n",
       "\n",
       "    .dataframe thead th {\n",
       "        text-align: right;\n",
       "    }\n",
       "</style>\n",
       "<table border=\"1\" class=\"dataframe\">\n",
       "  <thead>\n",
       "    <tr style=\"text-align: right;\">\n",
       "      <th></th>\n",
       "      <th>A</th>\n",
       "      <th>B</th>\n",
       "      <th>C</th>\n",
       "      <th>D</th>\n",
       "    </tr>\n",
       "  </thead>\n",
       "  <tbody>\n",
       "    <tr>\n",
       "      <th>0</th>\n",
       "      <td>0.262035</td>\n",
       "      <td>0.080282</td>\n",
       "      <td>0.607480</td>\n",
       "      <td>0.356113</td>\n",
       "    </tr>\n",
       "    <tr>\n",
       "      <th>1</th>\n",
       "      <td>0.542755</td>\n",
       "      <td>0.453805</td>\n",
       "      <td>0.458204</td>\n",
       "      <td>0.888470</td>\n",
       "    </tr>\n",
       "    <tr>\n",
       "      <th>2</th>\n",
       "      <td>0.530796</td>\n",
       "      <td>0.891795</td>\n",
       "      <td>0.186614</td>\n",
       "      <td>0.053429</td>\n",
       "    </tr>\n",
       "    <tr>\n",
       "      <th>3</th>\n",
       "      <td>0.645748</td>\n",
       "      <td>0.404074</td>\n",
       "      <td>0.330180</td>\n",
       "      <td>0.068261</td>\n",
       "    </tr>\n",
       "    <tr>\n",
       "      <th>4</th>\n",
       "      <td>0.447755</td>\n",
       "      <td>0.781091</td>\n",
       "      <td>0.869560</td>\n",
       "      <td>0.674871</td>\n",
       "    </tr>\n",
       "  </tbody>\n",
       "</table>\n",
       "</div>"
      ],
      "text/plain": [
       "          A         B         C         D\n",
       "0  0.262035  0.080282  0.607480  0.356113\n",
       "1  0.542755  0.453805  0.458204  0.888470\n",
       "2  0.530796  0.891795  0.186614  0.053429\n",
       "3  0.645748  0.404074  0.330180  0.068261\n",
       "4  0.447755  0.781091  0.869560  0.674871"
      ]
     },
     "execution_count": 4,
     "metadata": {},
     "output_type": "execute_result"
    }
   ],
   "source": [
    "df=pd.DataFrame(np.random.random(size=(100000,4)),columns=[\"A\",\"B\",\"C\",\"D\"])\n",
    "df.head()"
   ]
  },
  {
   "cell_type": "code",
   "execution_count": 6,
   "metadata": {},
   "outputs": [],
   "source": [
    "df.to_csv(\"save.csv\",index=False,float_format=\"%0.4f\")\n",
    "df.to_pickle(\"svae.pkl\")"
   ]
  }
 ],
 "metadata": {
  "interpreter": {
   "hash": "6e8eb7070876c68ce70433bf7eaf6609042de13a6c6d27896bea49f36e2b7f99"
  },
  "kernelspec": {
   "display_name": "Python 3.8.8 64-bit ('base': conda)",
   "name": "python3"
  },
  "language_info": {
   "codemirror_mode": {
    "name": "ipython",
    "version": 3
   },
   "file_extension": ".py",
   "mimetype": "text/x-python",
   "name": "python",
   "nbconvert_exporter": "python",
   "pygments_lexer": "ipython3",
   "version": "3.8.8"
  },
  "orig_nbformat": 4
 },
 "nbformat": 4,
 "nbformat_minor": 2
}
